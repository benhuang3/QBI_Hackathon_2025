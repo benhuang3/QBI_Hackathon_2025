{
 "cells": [
  {
   "cell_type": "code",
   "execution_count": 41,
   "id": "55aeef29-d347-4419-b0de-9f0573d3e2f0",
   "metadata": {},
   "outputs": [
    {
     "name": "stderr",
     "output_type": "stream",
     "text": [
      "  0%|          | 0/30001 [25:17<?, ?it/s]\n"
     ]
    }
   ],
   "source": [
    "import pandas as pd\n",
    "import torch\n",
    "import numpy as np\n",
    "from tqdm import tqdm\n",
    "import seaborn as sns"
   ]
  },
  {
   "cell_type": "code",
   "execution_count": null,
   "id": "72b369b5-3185-46b4-b15f-e54bf8d0cc85",
   "metadata": {},
   "outputs": [],
   "source": []
  },
  {
   "cell_type": "code",
   "execution_count": null,
   "id": "0b6c3642-2ea1-4497-8038-b14ff3ab9d1e",
   "metadata": {},
   "outputs": [],
   "source": []
  },
  {
   "cell_type": "code",
   "execution_count": 40,
   "id": "7c76102f-7d5e-491d-849e-b91ec15c86b4",
   "metadata": {},
   "outputs": [],
   "source": [
    "bdb = pd.read_csv('BDB_Final.csv')"
   ]
  },
  {
   "cell_type": "markdown",
   "id": "1763fb28-2e0f-475b-b2a0-c25244622ef3",
   "metadata": {},
   "source": []
  },
  {
   "cell_type": "code",
   "execution_count": 75,
   "id": "35d2a03c-e091-4ade-9a7c-293d9308ce67",
   "metadata": {},
   "outputs": [],
   "source": [
    "bdb = bdb[bdb['IC50 (nM)'] < 6000] "
   ]
  },
  {
   "cell_type": "code",
   "execution_count": 128,
   "id": "20466302-4782-476e-ace7-8e4bc121ddff",
   "metadata": {},
   "outputs": [],
   "source": [
    "def categorize_label(label):\n",
    "    if label < 10:\n",
    "        return -1\n",
    "    elif 10 <= label <= 1000:\n",
    "        return 0\n",
    "    else:\n",
    "        return 1"
   ]
  },
  {
   "cell_type": "code",
   "execution_count": 129,
   "id": "d3b122b0-a355-41eb-a9ea-2ea32bdd9f78",
   "metadata": {},
   "outputs": [
    {
     "name": "stderr",
     "output_type": "stream",
     "text": [
      "/tmp/ipykernel_673/607442072.py:1: SettingWithCopyWarning: \n",
      "A value is trying to be set on a copy of a slice from a DataFrame.\n",
      "Try using .loc[row_indexer,col_indexer] = value instead\n",
      "\n",
      "See the caveats in the documentation: https://pandas.pydata.org/pandas-docs/stable/user_guide/indexing.html#returning-a-view-versus-a-copy\n",
      "  bdb['Af_category'] = bdb['IC50 (nM)'].apply(categorize_label)\n"
     ]
    }
   ],
   "source": [
    "bdb['Af_category'] = bdb['IC50 (nM)'].apply(categorize_label)"
   ]
  },
  {
   "cell_type": "code",
   "execution_count": 130,
   "id": "001446d0-6430-4452-86b1-5a6209997d81",
   "metadata": {},
   "outputs": [
    {
     "data": {
      "text/plain": [
       "Af_category\n",
       " 1    18440\n",
       " 0    17497\n",
       "-1     4630\n",
       "Name: count, dtype: int64"
      ]
     },
     "execution_count": 130,
     "metadata": {},
     "output_type": "execute_result"
    }
   ],
   "source": [
    "bdb['Af_category'].value_counts()"
   ]
  },
  {
   "cell_type": "code",
   "execution_count": 131,
   "id": "6102ec70-b637-476a-8ce0-8eca68a7cd59",
   "metadata": {},
   "outputs": [],
   "source": [
    "embeddings = []\n",
    "embed_indices = []"
   ]
  },
  {
   "cell_type": "code",
   "execution_count": 132,
   "id": "b0874208-427d-4cb1-aa38-2126a8666005",
   "metadata": {},
   "outputs": [],
   "source": [
    "base_path = 'ESM_Embeddings_New/'"
   ]
  },
  {
   "cell_type": "code",
   "execution_count": 133,
   "id": "860a78e9-6d23-4471-ab4f-e769d891ea9f",
   "metadata": {},
   "outputs": [
    {
     "name": "stderr",
     "output_type": "stream",
     "text": [
      "30000it [00:41, 731.36it/s]\n"
     ]
    }
   ],
   "source": [
    "i = 0\n",
    "j = 0\n",
    "for index, row in tqdm(bdb.iterrows()):\n",
    "    curr_name = row['Protein index']\n",
    "    try: \n",
    "        embed = torch.load(base_path + str(curr_name) + '.pt')['mean_representations'][36].numpy()\n",
    "        embeddings.append(embed)\n",
    "        embed_indices.append(index)\n",
    "        i += 1\n",
    "    except: \n",
    "        continue\n",
    "    if i > 30000: \n",
    "        break"
   ]
  },
  {
   "cell_type": "code",
   "execution_count": 134,
   "id": "394cdfa8-dfb8-48a3-b9ff-4daad36393ad",
   "metadata": {},
   "outputs": [],
   "source": [
    "embed_s = pd.Series(embeddings)\n",
    "embed_indices = pd.Series(embed_indices)\n",
    "subset = pd.DataFrame({'Embeddings':embed_s, 'Embed_indices':embed_indices})"
   ]
  },
  {
   "cell_type": "code",
   "execution_count": 135,
   "id": "58fda844-deb3-4a4c-8785-d07069b5dff5",
   "metadata": {},
   "outputs": [],
   "source": [
    "subset['Protein index'] = subset['Embed_indices']"
   ]
  },
  {
   "cell_type": "code",
   "execution_count": 136,
   "id": "b71644cf-49b0-4ef5-8cbe-490e320d0e08",
   "metadata": {},
   "outputs": [],
   "source": [
    "full_data = pd.merge(bdb, subset, on='Protein index')"
   ]
  },
  {
   "cell_type": "code",
   "execution_count": 137,
   "id": "fc4e8772-3e52-48d7-b2c5-bdb9e7557308",
   "metadata": {},
   "outputs": [],
   "source": [
    "full_data['Protein Embeddings'] = full_data['Embeddings']"
   ]
  },
  {
   "cell_type": "code",
   "execution_count": 138,
   "id": "7f63be6a-b7b5-4bfe-97b8-b02384a1f457",
   "metadata": {},
   "outputs": [],
   "source": [
    "labels = full_data['IC50 (nM)']"
   ]
  },
  {
   "cell_type": "code",
   "execution_count": 139,
   "id": "2c19005a-7ce8-46e1-b5c5-544f396e0c9c",
   "metadata": {},
   "outputs": [],
   "source": [
    "ligand_S = full_data['Ligand SMILES']"
   ]
  },
  {
   "cell_type": "code",
   "execution_count": 140,
   "id": "bb946a65-c44b-40e2-b9e4-28c24250c32f",
   "metadata": {},
   "outputs": [],
   "source": [
    "smiles = np.load('MolecularTransformerEmbeddings/embeddings/smile_values.npz')"
   ]
  },
  {
   "cell_type": "code",
   "execution_count": 141,
   "id": "68c83382-9b34-450c-87b0-e8846ae72a41",
   "metadata": {},
   "outputs": [],
   "source": [
    "mol_embed_list = []\n",
    "for ligand in ligand_S.to_list(): \n",
    "    curr_array = smiles[ligand]\n",
    "    curr_array = np.mean(curr_array, axis=0)\n",
    "    mol_embed_list.append(curr_array)"
   ]
  },
  {
   "cell_type": "code",
   "execution_count": 142,
   "id": "1dff0e79-d042-4901-9e10-094e1951b784",
   "metadata": {},
   "outputs": [],
   "source": [
    "prot_embed = np.array(full_data['Protein Embeddings'])"
   ]
  },
  {
   "cell_type": "code",
   "execution_count": 224,
   "id": "f588f4cc-e6f0-4541-933f-67534be25c06",
   "metadata": {},
   "outputs": [],
   "source": [
    "def pad(arr): \n",
    "    target_rows = 232\n",
    "    current_rows = arr.shape[0]\n",
    "    if current_rows < target_rows:\n",
    "        padding = np.zeros((target_rows - current_rows, 512))\n",
    "        padded_arr = np.vstack((arr, padding))\n",
    "    else:\n",
    "        padded_arr = arr  # or slice if needed\n",
    "    return padded_arr.flatten()"
   ]
  },
  {
   "cell_type": "code",
   "execution_count": 83,
   "id": "818c9a02-6695-4df3-8eb5-adc1c2a97d5b",
   "metadata": {},
   "outputs": [
    {
     "data": {
      "text/plain": [
       "'\\nmol_flat = mol_embed[0]\\nfor arr in tqdm(mol_embed[1:]): \\n    arr = pad(arr)\\n    arr = np.row_stack((mol_flat, arr)) \\n    '"
      ]
     },
     "execution_count": 83,
     "metadata": {},
     "output_type": "execute_result"
    }
   ],
   "source": [
    "\"\"\"\n",
    "mol_flat = mol_embed[0]\n",
    "for arr in tqdm(mol_embed[1:]): \n",
    "    arr = pad(arr)\n",
    "    arr = np.row_stack((mol_flat, arr)) \n",
    "    \"\"\""
   ]
  },
  {
   "cell_type": "code",
   "execution_count": 82,
   "id": "a915063b-3d62-4aeb-ac13-21b27d0ad4ce",
   "metadata": {},
   "outputs": [],
   "source": [
    "#mol_flat = [pad(arr) for arr in tqdm(mol_embed)]"
   ]
  },
  {
   "cell_type": "code",
   "execution_count": 92,
   "id": "fb06f330-aeb3-4951-b3f2-c95804029fcc",
   "metadata": {},
   "outputs": [],
   "source": [
    "#[arr.shape for arr in mol_embed_list[:10]]"
   ]
  },
  {
   "cell_type": "code",
   "execution_count": 143,
   "id": "8e20d4cd-8403-4304-ba69-19edeca23231",
   "metadata": {},
   "outputs": [],
   "source": [
    "mol_embed_stack = np.stack(mol_embed_list)"
   ]
  },
  {
   "cell_type": "code",
   "execution_count": 144,
   "id": "94c02e6f-cdf3-4914-bc9e-07d06c4800e5",
   "metadata": {},
   "outputs": [
    {
     "data": {
      "text/plain": [
       "(30001, 512)"
      ]
     },
     "execution_count": 144,
     "metadata": {},
     "output_type": "execute_result"
    }
   ],
   "source": [
    "mol_embed_stack.shape"
   ]
  },
  {
   "cell_type": "code",
   "execution_count": 145,
   "id": "92a397c1-4f8d-4c61-87ed-499c0d336928",
   "metadata": {},
   "outputs": [],
   "source": [
    "#data.shape"
   ]
  },
  {
   "cell_type": "code",
   "execution_count": 146,
   "id": "46440075-afba-4875-88b5-67bf5c213ba1",
   "metadata": {},
   "outputs": [],
   "source": [
    "#prot_embed = data[:, 1]"
   ]
  },
  {
   "cell_type": "code",
   "execution_count": 147,
   "id": "f8abce7b-58a9-4069-b754-52cc2d72a44a",
   "metadata": {},
   "outputs": [],
   "source": [
    "prot_list = [arr for arr in prot_embed]"
   ]
  },
  {
   "cell_type": "code",
   "execution_count": 148,
   "id": "a0e88d94-75e8-4643-8dd2-ba53fa2e98f8",
   "metadata": {},
   "outputs": [],
   "source": [
    "prot_embed_stack = np.stack(prot_list)"
   ]
  },
  {
   "cell_type": "code",
   "execution_count": 149,
   "id": "f7f873e8-e1a0-479b-ae64-edcbfd57c506",
   "metadata": {},
   "outputs": [
    {
     "data": {
      "text/plain": [
       "(30001, 2560)"
      ]
     },
     "execution_count": 149,
     "metadata": {},
     "output_type": "execute_result"
    }
   ],
   "source": [
    "prot_embed_stack.shape"
   ]
  },
  {
   "cell_type": "code",
   "execution_count": 150,
   "id": "42701e93-ff2e-4692-a0fc-52224f9a5471",
   "metadata": {},
   "outputs": [
    {
     "data": {
      "text/plain": [
       "(30001, 2560)"
      ]
     },
     "execution_count": 150,
     "metadata": {},
     "output_type": "execute_result"
    }
   ],
   "source": [
    "prot_embed_stack.shape"
   ]
  },
  {
   "cell_type": "code",
   "execution_count": 151,
   "id": "b8a63a3d-535a-4a97-8ac3-f9ad00cf830f",
   "metadata": {},
   "outputs": [
    {
     "data": {
      "text/plain": [
       "(30001, 512)"
      ]
     },
     "execution_count": 151,
     "metadata": {},
     "output_type": "execute_result"
    }
   ],
   "source": [
    "mol_embed_stack.shape"
   ]
  },
  {
   "cell_type": "code",
   "execution_count": 152,
   "id": "c1bbe491-6020-4f14-9882-f7061e2667b9",
   "metadata": {},
   "outputs": [],
   "source": [
    "array_data = np.hstack((prot_embed_stack, mol_embed_stack))"
   ]
  },
  {
   "cell_type": "code",
   "execution_count": 153,
   "id": "bb84ef07-ad29-4a04-9b01-30f032d488da",
   "metadata": {},
   "outputs": [],
   "source": [
    "np.savez('X_filtered_cat.npz', array_data)"
   ]
  },
  {
   "cell_type": "code",
   "execution_count": 154,
   "id": "e7e42ef2-9f7a-4e81-854e-caafec648eb7",
   "metadata": {},
   "outputs": [],
   "source": [
    "labels = full_data['Af_category']"
   ]
  },
  {
   "cell_type": "code",
   "execution_count": 156,
   "id": "ce5b7f04-cf14-42fc-87f1-50a03bec62f3",
   "metadata": {},
   "outputs": [],
   "source": [
    "np.savez('y_30k_cat.npz', labels)"
   ]
  },
  {
   "cell_type": "code",
   "execution_count": 273,
   "id": "7f2b545a-73b0-47ca-a816-bd31b8eb3d5d",
   "metadata": {},
   "outputs": [
    {
     "data": {
      "text/plain": [
       "(30001,)"
      ]
     },
     "execution_count": 273,
     "metadata": {},
     "output_type": "execute_result"
    }
   ],
   "source": [
    "labels.shape"
   ]
  },
  {
   "cell_type": "code",
   "execution_count": 275,
   "id": "eb616e28-7f82-4e23-916c-20edf159fc0f",
   "metadata": {},
   "outputs": [
    {
     "data": {
      "text/plain": [
       "(30001, 121344)"
      ]
     },
     "execution_count": 275,
     "metadata": {},
     "output_type": "execute_result"
    }
   ],
   "source": [
    "full_data.shape"
   ]
  },
  {
   "cell_type": "code",
   "execution_count": 276,
   "id": "10dd2dfb-17f1-46bb-b46c-9e58bfe104cb",
   "metadata": {},
   "outputs": [
    {
     "name": "stdout",
     "output_type": "stream",
     "text": [
      "Requirement already satisfied: scikit-learn in /usr/local/lib/python3.10/dist-packages (1.6.1)\n",
      "Requirement already satisfied: numpy>=1.19.5 in /usr/local/lib/python3.10/dist-packages (from scikit-learn) (1.24.1)\n",
      "Requirement already satisfied: scipy>=1.6.0 in /usr/local/lib/python3.10/dist-packages (from scikit-learn) (1.15.2)\n",
      "Requirement already satisfied: joblib>=1.2.0 in /usr/local/lib/python3.10/dist-packages (from scikit-learn) (1.4.2)\n",
      "Requirement already satisfied: threadpoolctl>=3.1.0 in /usr/local/lib/python3.10/dist-packages (from scikit-learn) (3.5.0)\n",
      "\u001b[33mWARNING: Running pip as the 'root' user can result in broken permissions and conflicting behaviour with the system package manager, possibly rendering your system unusable. It is recommended to use a virtual environment instead: https://pip.pypa.io/warnings/venv. Use the --root-user-action option if you know what you are doing and want to suppress this warning.\u001b[0m\u001b[33m\n",
      "\u001b[0m"
     ]
    }
   ],
   "source": [
    "!pip install scikit-learn"
   ]
  },
  {
   "cell_type": "code",
   "execution_count": 277,
   "id": "85fed232-ae4a-4203-81b4-1118292ff7cc",
   "metadata": {},
   "outputs": [],
   "source": [
    "import sklearn"
   ]
  },
  {
   "cell_type": "code",
   "execution_count": 278,
   "id": "863fd593-61b4-4f05-bd03-3e164c2406fc",
   "metadata": {},
   "outputs": [
    {
     "ename": "AttributeError",
     "evalue": "module 'numpy.linalg' has no attribute 'svdvals'",
     "output_type": "error",
     "traceback": [
      "\u001b[0;31m---------------------------------------------------------------------------\u001b[0m",
      "\u001b[0;31mAttributeError\u001b[0m                            Traceback (most recent call last)",
      "Cell \u001b[0;32mIn[278], line 1\u001b[0m\n\u001b[0;32m----> 1\u001b[0m sv \u001b[38;5;241m=\u001b[39m \u001b[43mnp\u001b[49m\u001b[38;5;241;43m.\u001b[39;49m\u001b[43mlinalg\u001b[49m\u001b[38;5;241;43m.\u001b[39;49m\u001b[43msvdvals\u001b[49m(full_data)\n",
      "\u001b[0;31mAttributeError\u001b[0m: module 'numpy.linalg' has no attribute 'svdvals'"
     ]
    }
   ],
   "source": [
    "sv = np.linalg.svdvals(full_data)"
   ]
  },
  {
   "cell_type": "code",
   "execution_count": 115,
   "id": "e9bb68d1-e1ba-45a1-bf5b-20d8328824bc",
   "metadata": {},
   "outputs": [
    {
     "data": {
      "text/plain": [
       "<Axes: xlabel='IC50 (nM)', ylabel='Count'>"
      ]
     },
     "execution_count": 115,
     "metadata": {},
     "output_type": "execute_result"
    },
    {
     "data": {
      "image/png": "[encoded data removed]",
      "text/plain": [
       "<Figure size 640x480 with 1 Axes>"
      ]
     },
     "metadata": {},
     "output_type": "display_data"
    }
   ],
   "source": [
    "sns.histplot(labels)"
   ]
  },
  {
   "cell_type": "code",
   "execution_count": null,
   "id": "d8db904d-b5a9-4366-b878-3dbc7b3e51a8",
   "metadata": {},
   "outputs": [],
   "source": []
  }
 ],
 "metadata": {
  "kernelspec": {
   "display_name": "Python 3 (ipykernel)",
   "language": "python",
   "name": "python3"
  },
  "language_info": {
   "codemirror_mode": {
    "name": "ipython",
    "version": 3
   },
   "file_extension": ".py",
   "mimetype": "text/x-python",
   "name": "python",
   "nbconvert_exporter": "python",
   "pygments_lexer": "ipython3",
   "version": "3.10.12"
  }
 },
 "nbformat": 4,
 "nbformat_minor": 5
}
